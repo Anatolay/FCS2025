{
 "cells": [
  {
   "cell_type": "markdown",
   "id": "37979014",
   "metadata": {},
   "source": [
    "### Some fun with the λ-calculus"
   ]
  },
  {
   "cell_type": "markdown",
   "id": "59b72e35",
   "metadata": {},
   "source": [
    "A helper function to get names of λ-terms that we define"
   ]
  },
  {
   "cell_type": "code",
   "execution_count": null,
   "id": "753fbb30",
   "metadata": {},
   "outputs": [],
   "source": [
    "def lambda_name(lmb):\n",
    "    # Return the name of the lambda function based on it's value\n",
    "    # OR\n",
    "    # Return church-encoded number based on the number of applications\n",
    "\n",
    "    for name, value in globals().items():\n",
    "        # this just some python magic\n",
    "        # \n",
    "        # search current scope and \n",
    "        # checks if `lmb` object already defined\n",
    "        if value is lmb:\n",
    "            return name\n",
    "    \n",
    "    # other case -- assume that lmb is a number, and \n",
    "    # by number definition find it's value\n",
    "    # lambda s: lambda z: s(s(z))\n",
    "    # s became \"plus one func\" and z -- 0    \n",
    "    return f\"c{lmb(lambda x: x + 1)(0)}\""
   ]
  },
  {
   "cell_type": "code",
   "execution_count": null,
   "id": "74a791f4",
   "metadata": {},
   "outputs": [],
   "source": [
    "a = \"a\"\n",
    "b = \"b\"\n",
    "c = \"c\"\n",
    "\n",
    "lambda_name(b)"
   ]
  },
  {
   "cell_type": "markdown",
   "id": "7be67920",
   "metadata": {},
   "source": [
    "Identity function: **λx. x**"
   ]
  },
  {
   "cell_type": "code",
   "execution_count": null,
   "id": "6b0e023f",
   "metadata": {},
   "outputs": [],
   "source": [
    "id = lambda x: x"
   ]
  },
  {
   "cell_type": "code",
   "execution_count": null,
   "id": "245bc155",
   "metadata": {},
   "outputs": [],
   "source": [
    "print(id(3))\n",
    "print(id(\"Hi\"))\n",
    "# (λx.x) (λx.x)\n",
    "print(lambda_name(id(id)))\n",
    "# (λx.x) (λx.x) (λx.x) (λx.x)\n",
    "print(lambda_name(id(id)(id)(id)))\n",
    "# (λx.x) (λx.x) (λx.x) a\n",
    "print(lambda_name(id(id)(id)(a)))"
   ]
  },
  {
   "cell_type": "markdown",
   "id": "c1112cce",
   "metadata": {},
   "source": [
    "Funtions of multiple arguments: **λx.λy.x** and **λx.λy.y**"
   ]
  },
  {
   "cell_type": "code",
   "execution_count": null,
   "id": "40e14074",
   "metadata": {},
   "outputs": [],
   "source": [
    "first = lambda x: lambda y: x\n",
    "second = lambda x: lambda y: y"
   ]
  },
  {
   "cell_type": "code",
   "execution_count": null,
   "id": "08ee28c1",
   "metadata": {},
   "outputs": [],
   "source": [
    "# (λx.λy.x) a b\n",
    "print(first(a)(b))\n",
    "\n",
    "# (λx.λy.y) a b\n",
    "print(second(a)(b))\n"
   ]
  },
  {
   "cell_type": "markdown",
   "id": "e24a7e8a",
   "metadata": {},
   "source": [
    "Some examples"
   ]
  },
  {
   "cell_type": "code",
   "execution_count": null,
   "id": "ee8ec716",
   "metadata": {},
   "outputs": [],
   "source": [
    "# (λx.λy.x) (λx.λy.x) (λx.λy.x) a b\n",
    "print(first(first)(first)(a)(b))\n",
    "\n",
    "# (λx.λy.x) (λx.x) (λx.λy.y) b\n",
    "# first (λx.x) (λx.λy.y) b\n",
    "# (first (λx.x) (λx.λy.y)) b\n",
    "# (λx.x) b\n",
    "# b\n",
    "print((lambda x: lambda y: x)(lambda x: x)(lambda x: lambda y: y)(b))\n"
   ]
  },
  {
   "cell_type": "markdown",
   "id": "ba3b469b",
   "metadata": {},
   "source": [
    "#### Booleans"
   ]
  },
  {
   "cell_type": "code",
   "execution_count": null,
   "id": "6effd155",
   "metadata": {},
   "outputs": [],
   "source": [
    "tru = first\n",
    "fls = second\n",
    "# if-then-else\n",
    "# λb.λt.λf.b t f\n",
    "ite = lambda b: lambda t: lambda f: b(t)(f)"
   ]
  },
  {
   "cell_type": "code",
   "execution_count": null,
   "id": "376bddf0",
   "metadata": {},
   "outputs": [],
   "source": [
    "print(ite(tru)(a)(b))\n",
    "print(ite(fls)(a)(b))"
   ]
  },
  {
   "cell_type": "markdown",
   "id": "f0d9bf94",
   "metadata": {},
   "source": [
    "Logical AND"
   ]
  },
  {
   "cell_type": "code",
   "execution_count": null,
   "id": "29b5f75d",
   "metadata": {},
   "outputs": [],
   "source": [
    "# x AND y = ?\n",
    "# To answer this question, let's consider two cases:\n",
    "# 1) tru AND y = y\n",
    "# 2) fls AND y = fls\n",
    "#\n",
    "# a AND b = if a then b else fls\n",
    "AND = lambda x: lambda y: ite(x)(y)(fls)\n",
    "\n",
    "print(lambda_name(AND(tru)(tru)))\n",
    "print(lambda_name(AND(fls)(tru)))\n",
    "print(lambda_name(AND(tru)(fls)))\n",
    "print(lambda_name(AND(fls)(fls)))\n",
    "\n",
    "print()\n",
    "\n",
    "# Alternatively, we can see that\n",
    "# 1) tru(y)(fls) = y\n",
    "# 2) fls(y)(fls) = fls\n",
    "#\n",
    "# x AND y = x y fls\n",
    "AND = lambda x: lambda y: x(y)(fls)\n",
    "\n",
    "# Note: we basically opened the definition of ite:\n",
    "# ite x y fls\n",
    "# = (λb.λt.λf.b t f) x y fls\n",
    "# = x y fls\n",
    "\n",
    "print(lambda_name(AND(tru)(tru)))\n",
    "print(lambda_name(AND(fls)(tru)))\n",
    "print(lambda_name(AND(tru)(fls)))\n",
    "print(lambda_name(AND(fls)(fls)))"
   ]
  },
  {
   "cell_type": "markdown",
   "id": "47e3d0b7",
   "metadata": {},
   "source": [
    "Logical NOT"
   ]
  },
  {
   "cell_type": "code",
   "execution_count": null,
   "id": "1223f2cc",
   "metadata": {},
   "outputs": [],
   "source": [
    "# not tru = fls\n",
    "# not fls = tru\n",
    "#\n",
    "# Notice:\n",
    "# tru fls tru = fls\n",
    "# fls fls tru = tru\n",
    "#\n",
    "# λb.b fls tru\n",
    "NOT = lambda b: b(fls)(tru)\n",
    "\n",
    "print(lambda_name(NOT(fls)))\n",
    "print(lambda_name(NOT(tru)))"
   ]
  },
  {
   "cell_type": "markdown",
   "id": "d42f35bd",
   "metadata": {},
   "source": [
    "Exercises on logical operators"
   ]
  },
  {
   "cell_type": "code",
   "execution_count": null,
   "id": "05d8b7d7",
   "metadata": {},
   "outputs": [],
   "source": [
    "# Exercise 1\n",
    "OR = lambda a: lambda b: 0\n",
    "# Exercise 2\n",
    "XOR = lambda a: lambda b: 0"
   ]
  },
  {
   "cell_type": "markdown",
   "id": "c111331c",
   "metadata": {},
   "source": [
    "#### Natural Numbers"
   ]
  },
  {
   "cell_type": "code",
   "execution_count": null,
   "id": "e2caf381",
   "metadata": {},
   "outputs": [],
   "source": [
    "# Church encoding of natural numbers:\n",
    "# We can encode a natural number as a function of two arguments:\n",
    "# 1) Some unary operator\n",
    "# 2) Some value\n",
    "#\n",
    "# Natural number `n` is then a function which applies the operator to the value n times:\n",
    "#\n",
    "# 0 := λs.λz.z\n",
    "# 1 := λs.λz.s z\n",
    "# 2 := λs.λz.s (s z)\n",
    "# 3 := λs.λz.s (s (s z))\n",
    "c0 = lambda s: lambda z: z          # applies `s` to `z` 0 times\n",
    "c1 = lambda s: lambda z: s(z)       # applies `s` to `z` 1 time\n",
    "c2 = lambda s: lambda z: s(s(z))    # applies `s` to `z` 2 times\n",
    "c3 = lambda s: lambda z: s(s(s(z))) # applies `s` to `z` 3 times"
   ]
  },
  {
   "cell_type": "code",
   "execution_count": null,
   "id": "d1504f00",
   "metadata": {},
   "outputs": [],
   "source": [
    "lambda_name(lambda s: lambda z: s(s(z)))"
   ]
  },
  {
   "cell_type": "markdown",
   "id": "3ef9e646",
   "metadata": {},
   "source": [
    "Some operations on church-encoded natural numbers"
   ]
  },
  {
   "cell_type": "code",
   "execution_count": null,
   "id": "d1b71060",
   "metadata": {},
   "outputs": [],
   "source": [
    "# Increment\n",
    "#\n",
    "# Number `n` applies `s` to `z` n times. Then, we apply `s` one more time:\n",
    "# λn.λs.λz.s (n s z)\n",
    "inc = lambda n: lambda s: lambda z: s(n(s)(z))\n",
    "\n",
    "print(lambda_name(inc(inc(c2))))\n",
    "\n",
    "# Check if the number is zero\n",
    "#\n",
    "# We can make a function that ignores its argument and return false.\n",
    "# If we apply this function more than once, we get false.\n",
    "# If we apply this function zero times, we are left with the initial value:\n",
    "# λn. n (λx.fls) tru\n",
    "isZero = lambda n: n(lambda x: fls)(tru)\n",
    "\n",
    "print(lambda_name(isZero(c0)))\n",
    "print(lambda_name(isZero(c1)))\n",
    "print(lambda_name(isZero(c2)))\n"
   ]
  },
  {
   "cell_type": "markdown",
   "id": "f800c3ce",
   "metadata": {},
   "source": [
    "Addition (exercise)"
   ]
  },
  {
   "cell_type": "code",
   "execution_count": null,
   "id": "c8b60b18",
   "metadata": {},
   "outputs": [],
   "source": [
    "# Exercise 3\n",
    "add = lambda n: lambda m: lambda s: lambda z: 0\n",
    "print(lambda_name(add(c3)(c2)))"
   ]
  },
  {
   "cell_type": "markdown",
   "id": "34888985",
   "metadata": {},
   "source": [
    "Multiplication"
   ]
  },
  {
   "cell_type": "code",
   "execution_count": null,
   "id": "40be8e76",
   "metadata": {},
   "outputs": [],
   "source": [
    "# 1) λn.λm. n (λk. add k m) c0\n",
    "mult = lambda n: lambda m: n(lambda k: add(k)(m))(c0)\n",
    "\n",
    "print(lambda_name(mult(c3)(c2)))\n",
    "print(lambda_name(mult(c3)(c3)))\n",
    "\n",
    "# 1.2) λn.λm. n (add m) c0\n",
    "mult = lambda n: lambda m: n(add(m))(c0)\n",
    "\n",
    "print(lambda_name(mult(c3)(c2)))\n",
    "print(lambda_name(mult(c3)(c3)))\n",
    "\n",
    "# 2) λn.λm.λs.λz. n (m s) z\n",
    "mult = lambda n: lambda m: lambda s: lambda z: n (m(s)) (z)\n",
    "\n",
    "print(lambda_name(mult(c3)(c2)))\n",
    "print(lambda_name(mult(c3)(c3)))"
   ]
  },
  {
   "cell_type": "markdown",
   "id": "6d4dca19",
   "metadata": {},
   "source": [
    "Exponentiation (exercise)"
   ]
  },
  {
   "cell_type": "code",
   "execution_count": null,
   "id": "540f583b",
   "metadata": {},
   "outputs": [],
   "source": [
    "exp = lambda n: lambda m: 0"
   ]
  },
  {
   "cell_type": "markdown",
   "id": "7b300c9d",
   "metadata": {},
   "source": [
    "#### Pairs"
   ]
  },
  {
   "cell_type": "code",
   "execution_count": null,
   "id": "5d87b936",
   "metadata": {},
   "outputs": [],
   "source": [
    "# λx.λy.λf.f x y\n",
    "pair = lambda x: lambda y: lambda f: f(x)(y)\n",
    "\n",
    "# λp.p first\n",
    "# λp.p second\n",
    "fst = lambda p: p(first)\n",
    "snd = lambda p: p(second)"
   ]
  },
  {
   "cell_type": "code",
   "execution_count": null,
   "id": "a3b951e8",
   "metadata": {},
   "outputs": [],
   "source": [
    "# fst (pair a b)\n",
    "# = (λp.p first) (pair a b)\n",
    "# = (λp.p first) ((λx.λy.λf.f x y) a b)\n",
    "# = (λp.p first) (λf.f a b)\n",
    "# = (λf.f a b) first\n",
    "# = first a b\n",
    "# = a\n",
    "print(lambda_name(fst(pair(a)(b))))\n",
    "\n"
   ]
  },
  {
   "cell_type": "code",
   "execution_count": null,
   "id": "f9f18701",
   "metadata": {},
   "outputs": [],
   "source": []
  }
 ],
 "metadata": {
  "kernelspec": {
   "display_name": "Python 3",
   "language": "python",
   "name": "python3"
  },
  "language_info": {
   "codemirror_mode": {
    "name": "ipython",
    "version": 3
   },
   "file_extension": ".py",
   "mimetype": "text/x-python",
   "name": "python",
   "nbconvert_exporter": "python",
   "pygments_lexer": "ipython3",
   "version": "3.13.3"
  }
 },
 "nbformat": 4,
 "nbformat_minor": 5
}
